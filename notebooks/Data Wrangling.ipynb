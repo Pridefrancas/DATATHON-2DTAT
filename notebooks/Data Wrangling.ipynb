{
 "cells": [
  {
   "cell_type": "markdown",
   "metadata": {},
   "source": [
    "## Ingestão\n",
    "\n",
    "A ingestão foi realizada manualmente utilizando o DBeaver(Cliente SQL), onde importamos os arquivos .CSV de forma manual.\n",
    "Mas Algumas tabelas a ferramenta não conseguiu importar, por isso usamos o pandas para continuar a ingestão."
   ]
  },
  {
   "cell_type": "code",
   "execution_count": null,
   "metadata": {},
   "outputs": [],
   "source": [
    "!pip install pandas sqlalchemy psycopg2-binary python-dotenv"
   ]
  },
  {
   "cell_type": "code",
   "execution_count": 2,
   "metadata": {},
   "outputs": [],
   "source": [
    "import pandas as pd\n",
    "from sqlalchemy import create_engine"
   ]
  },
  {
   "cell_type": "code",
   "execution_count": 16,
   "metadata": {},
   "outputs": [
    {
     "data": {
      "text/plain": [
       "True"
      ]
     },
     "execution_count": 16,
     "metadata": {},
     "output_type": "execute_result"
    }
   ],
   "source": [
    "import os\n",
    "from dotenv import load_dotenv\n",
    "\n",
    "# Carrega as variáveis de ambiente do arquivo .env\n",
    "load_dotenv(dotenv_path=\"../.env_dev\")\n"
   ]
  },
  {
   "cell_type": "code",
   "execution_count": 18,
   "metadata": {},
   "outputs": [],
   "source": [
    "def create_conn():\n",
    "    # Defina os parâmetros de conexão\n",
    "    db_user = os.getenv('DB_USER')\n",
    "    db_password = os.getenv('DB_PASSWORD')\n",
    "    db_host = os.getenv('DB_HOST')\n",
    "    db_port = '5432'\n",
    "    db_name = 'magic-steps'\n",
    "\n",
    "    # Crie a URL de conexão\n",
    "    connection_url = f'postgresql://{db_user}:{db_password}@{db_host}:{db_port}/{db_name}'\n",
    "\n",
    "    # Crie um engine do SQLAlchemy\n",
    "    engine = create_engine(connection_url)\n",
    "    return engine\n",
    "engine = create_conn()"
   ]
  },
  {
   "cell_type": "code",
   "execution_count": 19,
   "metadata": {},
   "outputs": [
    {
     "data": {
      "text/html": [
       "<div>\n",
       "<style scoped>\n",
       "    .dataframe tbody tr th:only-of-type {\n",
       "        vertical-align: middle;\n",
       "    }\n",
       "\n",
       "    .dataframe tbody tr th {\n",
       "        vertical-align: top;\n",
       "    }\n",
       "\n",
       "    .dataframe thead th {\n",
       "        text-align: right;\n",
       "    }\n",
       "</style>\n",
       "<table border=\"1\" class=\"dataframe\">\n",
       "  <thead>\n",
       "    <tr style=\"text-align: right;\">\n",
       "      <th></th>\n",
       "      <th>IdAlunoRotinaEducacaoInfantil</th>\n",
       "      <th>IdAluno</th>\n",
       "      <th>IdTurma_x</th>\n",
       "      <th>Data</th>\n",
       "      <th>IdProfessorResponsavel</th>\n",
       "      <th>IdUsuarioResponsavel</th>\n",
       "      <th>IdFormularioRotinaEducacaoInfantil</th>\n",
       "      <th>IdAlunoObs</th>\n",
       "      <th>IdTipoOcorrencia</th>\n",
       "      <th>StImpedimento</th>\n",
       "      <th>...</th>\n",
       "      <th>StRecursoLinguaPortuguesaSegundaLingua</th>\n",
       "      <th>StRecursoProvaEmVideo</th>\n",
       "      <th>StPermiteUsoImagem</th>\n",
       "      <th>StEstrangeiro</th>\n",
       "      <th>Unnamed: 55</th>\n",
       "      <th>DataOcorrencia_y</th>\n",
       "      <th>IdTurma</th>\n",
       "      <th>IdSituacaoAlunoTurma_y</th>\n",
       "      <th>IdFaseNotaInicial_y</th>\n",
       "      <th>IdUsuario</th>\n",
       "    </tr>\n",
       "  </thead>\n",
       "  <tbody>\n",
       "    <tr>\n",
       "      <th>0</th>\n",
       "      <td>62995</td>\n",
       "      <td>773</td>\n",
       "      <td>273</td>\n",
       "      <td>2022-06-21 00:00:00</td>\n",
       "      <td>11.0</td>\n",
       "      <td></td>\n",
       "      <td>1</td>\n",
       "      <td>14875</td>\n",
       "      <td>14</td>\n",
       "      <td>False</td>\n",
       "      <td>...</td>\n",
       "      <td>False</td>\n",
       "      <td>False</td>\n",
       "      <td>False</td>\n",
       "      <td>False</td>\n",
       "      <td></td>\n",
       "      <td>2021-08-25 13:29:36.773000</td>\n",
       "      <td>116</td>\n",
       "      <td>NaN</td>\n",
       "      <td></td>\n",
       "      <td>14</td>\n",
       "    </tr>\n",
       "    <tr>\n",
       "      <th>1</th>\n",
       "      <td>74713</td>\n",
       "      <td>773</td>\n",
       "      <td>273</td>\n",
       "      <td>2022-08-02 00:00:00</td>\n",
       "      <td>11.0</td>\n",
       "      <td></td>\n",
       "      <td>1</td>\n",
       "      <td>11986</td>\n",
       "      <td>14</td>\n",
       "      <td>False</td>\n",
       "      <td>...</td>\n",
       "      <td>False</td>\n",
       "      <td>False</td>\n",
       "      <td>False</td>\n",
       "      <td>False</td>\n",
       "      <td></td>\n",
       "      <td>2021-08-25 13:29:36.773000</td>\n",
       "      <td>116</td>\n",
       "      <td>NaN</td>\n",
       "      <td></td>\n",
       "      <td>14</td>\n",
       "    </tr>\n",
       "    <tr>\n",
       "      <th>2</th>\n",
       "      <td>74713</td>\n",
       "      <td>773</td>\n",
       "      <td>273</td>\n",
       "      <td>2022-08-02 00:00:00</td>\n",
       "      <td>11.0</td>\n",
       "      <td></td>\n",
       "      <td>1</td>\n",
       "      <td>14875</td>\n",
       "      <td>14</td>\n",
       "      <td>False</td>\n",
       "      <td>...</td>\n",
       "      <td>False</td>\n",
       "      <td>False</td>\n",
       "      <td>False</td>\n",
       "      <td>False</td>\n",
       "      <td></td>\n",
       "      <td>2021-08-25 13:29:36.773000</td>\n",
       "      <td>116</td>\n",
       "      <td>NaN</td>\n",
       "      <td></td>\n",
       "      <td>14</td>\n",
       "    </tr>\n",
       "    <tr>\n",
       "      <th>3</th>\n",
       "      <td>74733</td>\n",
       "      <td>773</td>\n",
       "      <td>273</td>\n",
       "      <td>2022-08-09 00:00:00</td>\n",
       "      <td>11.0</td>\n",
       "      <td></td>\n",
       "      <td>1</td>\n",
       "      <td>11986</td>\n",
       "      <td>14</td>\n",
       "      <td>False</td>\n",
       "      <td>...</td>\n",
       "      <td>False</td>\n",
       "      <td>False</td>\n",
       "      <td>False</td>\n",
       "      <td>False</td>\n",
       "      <td></td>\n",
       "      <td>2021-08-25 13:29:36.773000</td>\n",
       "      <td>116</td>\n",
       "      <td>NaN</td>\n",
       "      <td></td>\n",
       "      <td>14</td>\n",
       "    </tr>\n",
       "    <tr>\n",
       "      <th>4</th>\n",
       "      <td>74733</td>\n",
       "      <td>773</td>\n",
       "      <td>273</td>\n",
       "      <td>2022-08-09 00:00:00</td>\n",
       "      <td>11.0</td>\n",
       "      <td></td>\n",
       "      <td>1</td>\n",
       "      <td>14875</td>\n",
       "      <td>14</td>\n",
       "      <td>False</td>\n",
       "      <td>...</td>\n",
       "      <td>False</td>\n",
       "      <td>False</td>\n",
       "      <td>False</td>\n",
       "      <td>False</td>\n",
       "      <td></td>\n",
       "      <td>2021-08-25 13:29:36.773000</td>\n",
       "      <td>116</td>\n",
       "      <td>NaN</td>\n",
       "      <td></td>\n",
       "      <td>14</td>\n",
       "    </tr>\n",
       "  </tbody>\n",
       "</table>\n",
       "<p>5 rows × 116 columns</p>\n",
       "</div>"
      ],
      "text/plain": [
       "   IdAlunoRotinaEducacaoInfantil  IdAluno  IdTurma_x                 Data  \\\n",
       "0                          62995      773        273  2022-06-21 00:00:00   \n",
       "1                          74713      773        273  2022-08-02 00:00:00   \n",
       "2                          74713      773        273  2022-08-02 00:00:00   \n",
       "3                          74733      773        273  2022-08-09 00:00:00   \n",
       "4                          74733      773        273  2022-08-09 00:00:00   \n",
       "\n",
       "   IdProfessorResponsavel IdUsuarioResponsavel  \\\n",
       "0                    11.0                        \n",
       "1                    11.0                        \n",
       "2                    11.0                        \n",
       "3                    11.0                        \n",
       "4                    11.0                        \n",
       "\n",
       "   IdFormularioRotinaEducacaoInfantil  IdAlunoObs  IdTipoOcorrencia  \\\n",
       "0                                   1       14875                14   \n",
       "1                                   1       11986                14   \n",
       "2                                   1       14875                14   \n",
       "3                                   1       11986                14   \n",
       "4                                   1       14875                14   \n",
       "\n",
       "   StImpedimento  ... StRecursoLinguaPortuguesaSegundaLingua  \\\n",
       "0          False  ...                                  False   \n",
       "1          False  ...                                  False   \n",
       "2          False  ...                                  False   \n",
       "3          False  ...                                  False   \n",
       "4          False  ...                                  False   \n",
       "\n",
       "   StRecursoProvaEmVideo StPermiteUsoImagem StEstrangeiro Unnamed: 55  \\\n",
       "0                  False              False         False               \n",
       "1                  False              False         False               \n",
       "2                  False              False         False               \n",
       "3                  False              False         False               \n",
       "4                  False              False         False               \n",
       "\n",
       "             DataOcorrencia_y IdTurma  IdSituacaoAlunoTurma_y  \\\n",
       "0  2021-08-25 13:29:36.773000     116                     NaN   \n",
       "1  2021-08-25 13:29:36.773000     116                     NaN   \n",
       "2  2021-08-25 13:29:36.773000     116                     NaN   \n",
       "3  2021-08-25 13:29:36.773000     116                     NaN   \n",
       "4  2021-08-25 13:29:36.773000     116                     NaN   \n",
       "\n",
       "  IdFaseNotaInicial_y IdUsuario  \n",
       "0                            14  \n",
       "1                            14  \n",
       "2                            14  \n",
       "3                            14  \n",
       "4                            14  \n",
       "\n",
       "[5 rows x 116 columns]"
      ]
     },
     "execution_count": 19,
     "metadata": {},
     "output_type": "execute_result"
    }
   ],
   "source": [
    "tabela_nome = 'merged_data_aluno'\n",
    "df = pd.read_sql_table(table_name=tabela_nome, con=engine,schema='magic_steps')\n",
    "\n",
    "df.head()"
   ]
  },
  {
   "cell_type": "code",
   "execution_count": 26,
   "metadata": {},
   "outputs": [
    {
     "data": {
      "text/plain": [
       "IdAluno\n",
       "773     0.415816\n",
       "727     0.303021\n",
       "1147    0.203386\n",
       "1174    0.031575\n",
       "747     0.024445\n",
       "1310    0.010267\n",
       "740     0.006111\n",
       "1267    0.005378\n",
       "Name: proportion, dtype: float64"
      ]
     },
     "execution_count": 26,
     "metadata": {},
     "output_type": "execute_result"
    }
   ],
   "source": [
    "df['IdAluno'].value_counts(normalize=True).head(100)"
   ]
  },
  {
   "cell_type": "markdown",
   "metadata": {},
   "source": [
    "# AVISO ⚠️\n",
    "\n",
    "O arquivo merged_data_aluno esta com veio com problema, pois não traz todos os clientes. Vamos realizar o nosso proprio JOIN das tabelas.\n",
    "\n",
    "Com isso na pasta de sql encontra-se as queries utilizadas para criar os JOINs e as Views."
   ]
  },
  {
   "cell_type": "code",
   "execution_count": 20,
   "metadata": {},
   "outputs": [
    {
     "name": "stdout",
     "output_type": "stream",
     "text": [
      "                    table_name\n",
      "0       tbsituacaoalunoturma_m\n",
      "1             tbturmaprofessor\n",
      "2         tbsituacaoalunoturma\n",
      "3   tbturmaprofessorsecundario\n",
      "4                      tbturma\n",
      "..                         ...\n",
      "57                 tbmunicipio\n",
      "58                      tbpais\n",
      "59                     tbaluno\n",
      "60                    vw_aluno\n",
      "61                  tbalunoobs\n",
      "\n",
      "[62 rows x 1 columns]\n"
     ]
    }
   ],
   "source": [
    "# Query para listar todas as tabelas\n",
    "query = \"\"\"\n",
    "SELECT table_name\n",
    "FROM information_schema.tables\n",
    "WHERE table_schema = 'magic_steps'\n",
    "\"\"\"\n",
    "\n",
    "df_tables = pd.read_sql_query(query, engine)\n",
    "print(df_tables)\n"
   ]
  },
  {
   "cell_type": "code",
   "execution_count": null,
   "metadata": {},
   "outputs": [],
   "source": [
    "# Leitura dos arquivos enviados\n",
    "df = pd.read_csv('data/TbAluno.csv')\n",
    "df_alunoobs = pd.read_csv('data/TbAlunoObs.csv')"
   ]
  },
  {
   "cell_type": "code",
   "execution_count": null,
   "metadata": {},
   "outputs": [],
   "source": [
    "# Salvando algumas tabelas no banco de dados\n",
    "df.to_sql('tbaluno',engine,'magic_steps',  if_exists='replace', index=False)\n",
    "df_alunoobs.to_sql('tbalunoobs',engine,'magic_steps',  if_exists='replace', index=False)"
   ]
  }
 ],
 "metadata": {
  "kernelspec": {
   "display_name": ".env",
   "language": "python",
   "name": "python3"
  },
  "language_info": {
   "codemirror_mode": {
    "name": "ipython",
    "version": 3
   },
   "file_extension": ".py",
   "mimetype": "text/x-python",
   "name": "python",
   "nbconvert_exporter": "python",
   "pygments_lexer": "ipython3",
   "version": "3.11.4"
  }
 },
 "nbformat": 4,
 "nbformat_minor": 2
}
